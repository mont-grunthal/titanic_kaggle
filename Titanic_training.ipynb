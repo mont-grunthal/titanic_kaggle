{
 "cells": [
  {
   "cell_type": "code",
   "execution_count": 1,
   "metadata": {},
   "outputs": [],
   "source": [
    "#import required modules\n",
    "import math\n",
    "import numpy as np\n",
    "import pandas as pd\n",
    "import matplotlib.pyplot as plt\n",
    "import sklearn as sk\n",
    "import scipy as sp\n",
    "from sklearn.ensemble import RandomForestClassifier,RandomForestRegressor\n",
    "\n",
    "\n",
    "from sklearn.experimental import enable_iterative_imputer\n",
    "from sklearn.impute import IterativeImputer\n",
    "\n",
    "#Read in the datasets\n",
    "train = pd.read_csv('###############')\n",
    "test = pd.read_csv('################')"
   ]
  },
  {
   "cell_type": "markdown",
   "metadata": {},
   "source": [
    "# Alexis Cook's Model\n",
    "    \n",
    "Using the method in Alexis Cook's tutorial, we were able to achieve and accuracy of:\n",
    "\n",
    "0.77511.\n",
    "\n",
    "We can likely improve on this model. My first thought is that we should explore the data to see if we can impove our feature selection to train the model on more and perhaps more informative features. Additionally, we might dicover that there are preprocessing tools that might impove out"
   ]
  },
  {
   "cell_type": "markdown",
   "metadata": {},
   "source": [
    "# Exploratory Data Analysis"
   ]
  },
  {
   "cell_type": "code",
   "execution_count": 2,
   "metadata": {},
   "outputs": [
    {
     "data": {
      "text/html": [
       "<div>\n",
       "<style scoped>\n",
       "    .dataframe tbody tr th:only-of-type {\n",
       "        vertical-align: middle;\n",
       "    }\n",
       "\n",
       "    .dataframe tbody tr th {\n",
       "        vertical-align: top;\n",
       "    }\n",
       "\n",
       "    .dataframe thead th {\n",
       "        text-align: right;\n",
       "    }\n",
       "</style>\n",
       "<table border=\"1\" class=\"dataframe\">\n",
       "  <thead>\n",
       "    <tr style=\"text-align: right;\">\n",
       "      <th></th>\n",
       "      <th>PassengerId</th>\n",
       "      <th>Survived</th>\n",
       "      <th>Pclass</th>\n",
       "      <th>Name</th>\n",
       "      <th>Sex</th>\n",
       "      <th>Age</th>\n",
       "      <th>SibSp</th>\n",
       "      <th>Parch</th>\n",
       "      <th>Ticket</th>\n",
       "      <th>Fare</th>\n",
       "      <th>Cabin</th>\n",
       "      <th>Embarked</th>\n",
       "    </tr>\n",
       "  </thead>\n",
       "  <tbody>\n",
       "    <tr>\n",
       "      <td>0</td>\n",
       "      <td>1</td>\n",
       "      <td>0</td>\n",
       "      <td>3</td>\n",
       "      <td>Braund, Mr. Owen Harris</td>\n",
       "      <td>male</td>\n",
       "      <td>22.0</td>\n",
       "      <td>1</td>\n",
       "      <td>0</td>\n",
       "      <td>A/5 21171</td>\n",
       "      <td>7.2500</td>\n",
       "      <td>NaN</td>\n",
       "      <td>S</td>\n",
       "    </tr>\n",
       "    <tr>\n",
       "      <td>1</td>\n",
       "      <td>2</td>\n",
       "      <td>1</td>\n",
       "      <td>1</td>\n",
       "      <td>Cumings, Mrs. John Bradley (Florence Briggs Th...</td>\n",
       "      <td>female</td>\n",
       "      <td>38.0</td>\n",
       "      <td>1</td>\n",
       "      <td>0</td>\n",
       "      <td>PC 17599</td>\n",
       "      <td>71.2833</td>\n",
       "      <td>C85</td>\n",
       "      <td>C</td>\n",
       "    </tr>\n",
       "    <tr>\n",
       "      <td>2</td>\n",
       "      <td>3</td>\n",
       "      <td>1</td>\n",
       "      <td>3</td>\n",
       "      <td>Heikkinen, Miss. Laina</td>\n",
       "      <td>female</td>\n",
       "      <td>26.0</td>\n",
       "      <td>0</td>\n",
       "      <td>0</td>\n",
       "      <td>STON/O2. 3101282</td>\n",
       "      <td>7.9250</td>\n",
       "      <td>NaN</td>\n",
       "      <td>S</td>\n",
       "    </tr>\n",
       "    <tr>\n",
       "      <td>3</td>\n",
       "      <td>4</td>\n",
       "      <td>1</td>\n",
       "      <td>1</td>\n",
       "      <td>Futrelle, Mrs. Jacques Heath (Lily May Peel)</td>\n",
       "      <td>female</td>\n",
       "      <td>35.0</td>\n",
       "      <td>1</td>\n",
       "      <td>0</td>\n",
       "      <td>113803</td>\n",
       "      <td>53.1000</td>\n",
       "      <td>C123</td>\n",
       "      <td>S</td>\n",
       "    </tr>\n",
       "    <tr>\n",
       "      <td>4</td>\n",
       "      <td>5</td>\n",
       "      <td>0</td>\n",
       "      <td>3</td>\n",
       "      <td>Allen, Mr. William Henry</td>\n",
       "      <td>male</td>\n",
       "      <td>35.0</td>\n",
       "      <td>0</td>\n",
       "      <td>0</td>\n",
       "      <td>373450</td>\n",
       "      <td>8.0500</td>\n",
       "      <td>NaN</td>\n",
       "      <td>S</td>\n",
       "    </tr>\n",
       "  </tbody>\n",
       "</table>\n",
       "</div>"
      ],
      "text/plain": [
       "   PassengerId  Survived  Pclass  \\\n",
       "0            1         0       3   \n",
       "1            2         1       1   \n",
       "2            3         1       3   \n",
       "3            4         1       1   \n",
       "4            5         0       3   \n",
       "\n",
       "                                                Name     Sex   Age  SibSp  \\\n",
       "0                            Braund, Mr. Owen Harris    male  22.0      1   \n",
       "1  Cumings, Mrs. John Bradley (Florence Briggs Th...  female  38.0      1   \n",
       "2                             Heikkinen, Miss. Laina  female  26.0      0   \n",
       "3       Futrelle, Mrs. Jacques Heath (Lily May Peel)  female  35.0      1   \n",
       "4                           Allen, Mr. William Henry    male  35.0      0   \n",
       "\n",
       "   Parch            Ticket     Fare Cabin Embarked  \n",
       "0      0         A/5 21171   7.2500   NaN        S  \n",
       "1      0          PC 17599  71.2833   C85        C  \n",
       "2      0  STON/O2. 3101282   7.9250   NaN        S  \n",
       "3      0            113803  53.1000  C123        S  \n",
       "4      0            373450   8.0500   NaN        S  "
      ]
     },
     "execution_count": 2,
     "metadata": {},
     "output_type": "execute_result"
    }
   ],
   "source": [
    "#View the data\n",
    "#It appears that some features may be unique identifiers\n",
    "#Such as, Ticket and PassengerId\n",
    "#cabin is a unique identifier but it may incode useful spatial information\n",
    "train.head()"
   ]
  },
  {
   "cell_type": "code",
   "execution_count": 3,
   "metadata": {},
   "outputs": [
    {
     "data": {
      "text/html": [
       "<div>\n",
       "<style scoped>\n",
       "    .dataframe tbody tr th:only-of-type {\n",
       "        vertical-align: middle;\n",
       "    }\n",
       "\n",
       "    .dataframe tbody tr th {\n",
       "        vertical-align: top;\n",
       "    }\n",
       "\n",
       "    .dataframe thead th {\n",
       "        text-align: right;\n",
       "    }\n",
       "</style>\n",
       "<table border=\"1\" class=\"dataframe\">\n",
       "  <thead>\n",
       "    <tr style=\"text-align: right;\">\n",
       "      <th></th>\n",
       "      <th>PassengerId</th>\n",
       "      <th>Survived</th>\n",
       "      <th>Pclass</th>\n",
       "      <th>Age</th>\n",
       "      <th>SibSp</th>\n",
       "      <th>Parch</th>\n",
       "      <th>Fare</th>\n",
       "    </tr>\n",
       "  </thead>\n",
       "  <tbody>\n",
       "    <tr>\n",
       "      <td>count</td>\n",
       "      <td>891.000000</td>\n",
       "      <td>891.000000</td>\n",
       "      <td>891.000000</td>\n",
       "      <td>714.000000</td>\n",
       "      <td>891.000000</td>\n",
       "      <td>891.000000</td>\n",
       "      <td>891.000000</td>\n",
       "    </tr>\n",
       "    <tr>\n",
       "      <td>mean</td>\n",
       "      <td>446.000000</td>\n",
       "      <td>0.383838</td>\n",
       "      <td>2.308642</td>\n",
       "      <td>29.699118</td>\n",
       "      <td>0.523008</td>\n",
       "      <td>0.381594</td>\n",
       "      <td>32.204208</td>\n",
       "    </tr>\n",
       "    <tr>\n",
       "      <td>std</td>\n",
       "      <td>257.353842</td>\n",
       "      <td>0.486592</td>\n",
       "      <td>0.836071</td>\n",
       "      <td>14.526497</td>\n",
       "      <td>1.102743</td>\n",
       "      <td>0.806057</td>\n",
       "      <td>49.693429</td>\n",
       "    </tr>\n",
       "    <tr>\n",
       "      <td>min</td>\n",
       "      <td>1.000000</td>\n",
       "      <td>0.000000</td>\n",
       "      <td>1.000000</td>\n",
       "      <td>0.420000</td>\n",
       "      <td>0.000000</td>\n",
       "      <td>0.000000</td>\n",
       "      <td>0.000000</td>\n",
       "    </tr>\n",
       "    <tr>\n",
       "      <td>25%</td>\n",
       "      <td>223.500000</td>\n",
       "      <td>0.000000</td>\n",
       "      <td>2.000000</td>\n",
       "      <td>20.125000</td>\n",
       "      <td>0.000000</td>\n",
       "      <td>0.000000</td>\n",
       "      <td>7.910400</td>\n",
       "    </tr>\n",
       "    <tr>\n",
       "      <td>50%</td>\n",
       "      <td>446.000000</td>\n",
       "      <td>0.000000</td>\n",
       "      <td>3.000000</td>\n",
       "      <td>28.000000</td>\n",
       "      <td>0.000000</td>\n",
       "      <td>0.000000</td>\n",
       "      <td>14.454200</td>\n",
       "    </tr>\n",
       "    <tr>\n",
       "      <td>75%</td>\n",
       "      <td>668.500000</td>\n",
       "      <td>1.000000</td>\n",
       "      <td>3.000000</td>\n",
       "      <td>38.000000</td>\n",
       "      <td>1.000000</td>\n",
       "      <td>0.000000</td>\n",
       "      <td>31.000000</td>\n",
       "    </tr>\n",
       "    <tr>\n",
       "      <td>max</td>\n",
       "      <td>891.000000</td>\n",
       "      <td>1.000000</td>\n",
       "      <td>3.000000</td>\n",
       "      <td>80.000000</td>\n",
       "      <td>8.000000</td>\n",
       "      <td>6.000000</td>\n",
       "      <td>512.329200</td>\n",
       "    </tr>\n",
       "  </tbody>\n",
       "</table>\n",
       "</div>"
      ],
      "text/plain": [
       "       PassengerId    Survived      Pclass         Age       SibSp  \\\n",
       "count   891.000000  891.000000  891.000000  714.000000  891.000000   \n",
       "mean    446.000000    0.383838    2.308642   29.699118    0.523008   \n",
       "std     257.353842    0.486592    0.836071   14.526497    1.102743   \n",
       "min       1.000000    0.000000    1.000000    0.420000    0.000000   \n",
       "25%     223.500000    0.000000    2.000000   20.125000    0.000000   \n",
       "50%     446.000000    0.000000    3.000000   28.000000    0.000000   \n",
       "75%     668.500000    1.000000    3.000000   38.000000    1.000000   \n",
       "max     891.000000    1.000000    3.000000   80.000000    8.000000   \n",
       "\n",
       "            Parch        Fare  \n",
       "count  891.000000  891.000000  \n",
       "mean     0.381594   32.204208  \n",
       "std      0.806057   49.693429  \n",
       "min      0.000000    0.000000  \n",
       "25%      0.000000    7.910400  \n",
       "50%      0.000000   14.454200  \n",
       "75%      0.000000   31.000000  \n",
       "max      6.000000  512.329200  "
      ]
     },
     "execution_count": 3,
     "metadata": {},
     "output_type": "execute_result"
    }
   ],
   "source": [
    "#Look for any suspicious data. Fare having a minimum \n",
    "#of zero could be an indication of missing values or \n",
    "#maybe workers were listed as having zero fare.\n",
    "#Maybe some got compliminetery tickets.\n",
    "train.describe()"
   ]
  },
  {
   "cell_type": "code",
   "execution_count": 4,
   "metadata": {},
   "outputs": [
    {
     "name": "stdout",
     "output_type": "stream",
     "text": [
      "n*p = 15.0\n",
      "n*(1-p) = 876.0\n",
      "Z = -21.815239023824546\n",
      " \n",
      "The probability that we would sample less that 15 workers out of 891 from the titanic is 8.3e-104%\n",
      " \n",
      "Definitly not explainable as crew!\n"
     ]
    }
   ],
   "source": [
    "#Very few people got complintary tickets on the titanic so I will \n",
    "#only consider that the zeros may be explained by workers.\n",
    "#That assumes that crew are on this list\n",
    "#Whats the probability that <=1.6% of the training sample is crew given that \n",
    "#our data is a random sample of everyone on the titanic?\n",
    "\n",
    "#36% of the population were workers\n",
    "#1.6% of the sample is workers\n",
    "true_prop = (900/2435)\n",
    "sample_prop = (15/891)\n",
    "#The sample population had 891 individuals\n",
    "#The population had 2435 individuals\n",
    "sample_pop = 891\n",
    "pop = 2435\n",
    "\n",
    "#np is over 10\n",
    "#n(1-p) is over 10\n",
    "#we can use approximate as normal distribution\n",
    "z = (sample_prop-true_prop)/np.sqrt((true_prop*(1-true_prop))/sample_pop)\n",
    "#What is the probability that P(z<-21)?\n",
    "p = sp.stats.norm.cdf(z)\n",
    "\n",
    "print(f\"n*p = {sample_pop*sample_prop}\")\n",
    "print(f\"n*(1-p) = {sample_pop*(1-sample_prop)}\")\n",
    "print(f\"Z = {z}\")\n",
    "print(\" \")\n",
    "print(f\"The probability that we would sample less that 15 workers out of 891 from the titanic is {(p*100):0.2}%\")\n",
    "print(\" \")\n",
    "print(\"Definitly not explainable as crew!\")"
   ]
  },
  {
   "cell_type": "code",
   "execution_count": 5,
   "metadata": {},
   "outputs": [
    {
     "name": "stdout",
     "output_type": "stream",
     "text": [
      "Name and number of missing elements for each feature.\n",
      " \n",
      "PassengerId: 0\n",
      "Survived: 0\n",
      "Pclass: 0\n",
      "Name: 0\n",
      "Sex: 0\n",
      "Age: 177\n",
      "SibSp: 0\n",
      "Parch: 0\n",
      "Ticket: 0\n",
      "Fare: 0\n",
      "Cabin: 687\n",
      "Embarked: 2\n"
     ]
    }
   ],
   "source": [
    "#store all feature names for indexing\n",
    "all_features = list(train.columns)\n",
    "percent_incomplete = []\n",
    "#count the number of missing values in each coloumn\n",
    "print(\"Name and number of missing elements for each feature.\")\n",
    "print(\" \")\n",
    "for col in all_features:\n",
    "    num_nan = train[col].isna().sum()\n",
    "    print(f\"{col}: {num_nan}\")\n",
    "    perc = (num_nan/len(train[col]))\n",
    "    percent_incomplete.append((col,perc))"
   ]
  },
  {
   "cell_type": "code",
   "execution_count": 6,
   "metadata": {},
   "outputs": [
    {
     "name": "stdout",
     "output_type": "stream",
     "text": [
      "PassengerId is 0.0% inclompete\n",
      "Survived is 0.0% inclompete\n",
      "Pclass is 0.0% inclompete\n",
      "Name is 0.0% inclompete\n",
      "Sex is 0.0% inclompete\n",
      "Age is 19.9% inclompete\n",
      "SibSp is 0.0% inclompete\n",
      "Parch is 0.0% inclompete\n",
      "Ticket is 0.0% inclompete\n",
      "Fare is 0.0% inclompete\n",
      "Cabin is 77.1% inclompete\n",
      "Embarked is 0.2% inclompete\n"
     ]
    }
   ],
   "source": [
    "#find percent missing elements per feature \n",
    "for feat in percent_incomplete:\n",
    "    print(f\"{feat[0]} is {feat[1]:.1%} inclompete\")"
   ]
  },
  {
   "cell_type": "code",
   "execution_count": 7,
   "metadata": {},
   "outputs": [
    {
     "name": "stderr",
     "output_type": "stream",
     "text": [
      "C:\\Users\\Monty\\AppData\\Local\\Continuum\\anaconda3\\lib\\site-packages\\numpy\\lib\\histograms.py:824: RuntimeWarning: invalid value encountered in greater_equal\n",
      "  keep = (tmp_a >= first_edge)\n",
      "C:\\Users\\Monty\\AppData\\Local\\Continuum\\anaconda3\\lib\\site-packages\\numpy\\lib\\histograms.py:825: RuntimeWarning: invalid value encountered in less_equal\n",
      "  keep &= (tmp_a <= last_edge)\n"
     ]
    },
    {
     "data": {
      "image/png": "[encoded data removed]",
      "text/plain": [
       "<Figure size 432x288 with 9 Axes>"
      ]
     },
     "metadata": {
      "needs_background": "light"
     },
     "output_type": "display_data"
    }
   ],
   "source": [
    "#Plot histograms of each feature (excluding unique features like ticket number)\n",
    "fig, axs = plt.subplots(3,3);\n",
    "\n",
    "axs[0,0].hist(train[\"SibSp\"])\n",
    "axs[0,0].set_title(\"SibSp\");\n",
    "\n",
    "axs[0,1].hist(train[\"Pclass\"], bins = 3);\n",
    "axs[0,1].set_title(\"Pclass\");\n",
    "\n",
    "axs[0,2].hist(train[\"Survived\"], bins = 2)\n",
    "axs[0,2].set_title(\"Survived\");\n",
    "\n",
    "\n",
    "axs[1,0].hist(train[\"Parch\"]);\n",
    "axs[1,0].set_title(\"Parch\");\n",
    "\n",
    "axs[1,1].hist(train[\"Fare\"]);\n",
    "axs[1,1].set_title(\"Fare\");\n",
    "\n",
    "\n",
    "axs[1,2].hist(train[\"Sex\"], bins = 2)\n",
    "axs[1,2].set_title(\"Sex\");\n",
    "\n",
    "axs[2,0].hist(train[\"Cabin\"].dropna(0));\n",
    "axs[2,0].set_title(\"Cabin\");\n",
    "axs[2,0].get_xaxis().set_visible(False)\n",
    "\n",
    "axs[2,1].hist(train[\"Embarked\"].dropna(0), bins = 3);\n",
    "axs[2,1].set_title(\"Embarked\");\n",
    "\n",
    "axs[2,2].hist(train[\"Age\"]);\n",
    "axs[2,2].set_title(\"Age\");\n",
    "\n",
    "plt.tight_layout()"
   ]
  },
  {
   "cell_type": "code",
   "execution_count": 8,
   "metadata": {
    "scrolled": true
   },
   "outputs": [
    {
     "data": {
      "image/png": "[encoded data removed]",
      "text/plain": [
       "<Figure size 1368x1080 with 2 Axes>"
      ]
     },
     "metadata": {
      "needs_background": "light"
     },
     "output_type": "display_data"
    }
   ],
   "source": [
    "#plot correlation matrix\n",
    "f = plt.figure(figsize=(19, 15))\n",
    "plt.matshow(train.corr(), fignum=f.number)\n",
    "plt.xticks(range(train.select_dtypes(['number']).shape[1]), train.select_dtypes(['number']).columns, fontsize=14, rotation=45)\n",
    "plt.yticks(range(train.select_dtypes(['number']).shape[1]), train.select_dtypes(['number']).columns, fontsize=14)\n",
    "cb = plt.colorbar()\n",
    "cb.ax.tick_params(labelsize=14)\n",
    "plt.title('Correlation Matrix', fontsize=16);"
   ]
  },
  {
   "cell_type": "markdown",
   "metadata": {},
   "source": [
    "# Exploratory Data Analysis: Results\n",
    "\n",
    "From our small exploratoration of the data, we've learned the following. These insights are as follows:\n",
    "\n",
    "1. We know intuitivly that some of our features, such as Name, PassengerId, Ticket, and Embark are unique or arbitrary enough that they dont yeild any information about survival. Cabin seems arbitrary, but if we can gleam spatial information out of it and passengers in sertain sections were more likely to die, it could be informative.\n",
    "\n",
    "2. Some features have missing values. For the most part, this isn't to much of a problem. However, Cabin is over 77% missing data and should therefor be excluded from the model. And we have reaon to belive that there are some missing values inthe Fare feature.\n",
    "\n",
    "3. Features such as Parch and Age are skewed. Other features are very different in scale. As we are using a tree based classifier, this won't be an issue. It should still be noted for when we apply different models in the future.\n",
    "\n",
    "4. We have both numerical, ordenal, and categorical features. We should not encode these for random forest but may need to for future classifiers."
   ]
  },
  {
   "cell_type": "markdown",
   "metadata": {},
   "source": [
    "# Preprocessing\n",
    "Based on this preliminary exploration. I will not consider Name, PassengerId, Ticket, Embarked, and Cabin from the training. Our only preprocessing step for random forest is to remove unwanted features and deal with the missing values for age. We will assume that the missing values in Age and Fare are Missing at Random and Missing Completly at random. We will use an iterative multivatiate imputer here. In the future, we will make a few more assumtions about the data in order to fill the data using Markov Chain Monte Carlo methods to impute the data. Its overkill for this problem but MCMC was one of my favorite courses in undergrad."
   ]
  },
  {
   "cell_type": "code",
   "execution_count": 9,
   "metadata": {},
   "outputs": [],
   "source": [
    "test_feat = ['Age', 'Fare', 'Parch', 'Pclass', 'Sex', 'SibSp']\n",
    "features = ['Survived','Age', 'Fare', 'Parch', 'Pclass', 'Sex', 'SibSp']"
   ]
  },
  {
   "cell_type": "code",
   "execution_count": 10,
   "metadata": {},
   "outputs": [
    {
     "name": "stderr",
     "output_type": "stream",
     "text": [
      "C:\\Users\\Monty\\AppData\\Local\\Continuum\\anaconda3\\lib\\site-packages\\ipykernel_launcher.py:14: SettingWithCopyWarning: \n",
      "A value is trying to be set on a copy of a slice from a DataFrame\n",
      "\n",
      "See the caveats in the documentation: http://pandas.pydata.org/pandas-docs/stable/user_guide/indexing.html#returning-a-view-versus-a-copy\n",
      "  \n",
      "C:\\Users\\Monty\\AppData\\Local\\Continuum\\anaconda3\\lib\\site-packages\\ipykernel_launcher.py:23: SettingWithCopyWarning: \n",
      "A value is trying to be set on a copy of a slice from a DataFrame\n",
      "\n",
      "See the caveats in the documentation: http://pandas.pydata.org/pandas-docs/stable/user_guide/indexing.html#returning-a-view-versus-a-copy\n"
     ]
    }
   ],
   "source": [
    "#convert catigorical sex to categorica int for classification\n",
    "train[\"Sex\"] = train[\"Sex\"].replace({\"male\": 0, \"female\": 1})\n",
    "\n",
    "#convert catigorical sex to categorica int for classification\n",
    "test[\"Sex\"] = test[\"Sex\"].replace({\"male\": 0, \"female\": 1})\n",
    "\n",
    "\n",
    "\n",
    "#convert zeros in fare to NaN for imputer\n",
    "#loop because find and replace has trouble w/ float zeros\n",
    "count = 0\n",
    "for i,elem in enumerate(train[\"Fare\"]):\n",
    "    if elem < 0.001:\n",
    "        train[\"Fare\"][i] = math.nan\n",
    "\n",
    "\n",
    "        \n",
    "#convert zeros in fare to NaN for imputer\n",
    "#loop because find and replace has trouble w/ float zeros\n",
    "count = 0\n",
    "for i,elem in enumerate(test[\"Fare\"]):\n",
    "    if elem < 0.001:\n",
    "        test[\"Fare\"][i] = math.nan"
   ]
  },
  {
   "cell_type": "code",
   "execution_count": 11,
   "metadata": {
    "scrolled": true
   },
   "outputs": [
    {
     "name": "stderr",
     "output_type": "stream",
     "text": [
      "C:\\Users\\Monty\\AppData\\Local\\Continuum\\anaconda3\\lib\\site-packages\\sklearn\\impute\\_iterative.py:670: ConvergenceWarning: [IterativeImputer] Early stopping criterion not reached.\n",
      "  \" reached.\", ConvergenceWarning)\n"
     ]
    }
   ],
   "source": [
    "#Impute missing values in fare and age\n",
    "\n",
    "imputed_data = []                    \n",
    "for df in [train,test]:\n",
    "    \n",
    "    imputed_df = df.copy()      \n",
    "    numerical = ['Age','Fare']                                                     \n",
    "    \n",
    "\n",
    "    #define an imputer for numerical columns\n",
    "    imp_num = IterativeImputer(estimator=RandomForestRegressor(),\n",
    "                               initial_strategy='median',\n",
    "                               max_iter=10,\n",
    "                               random_state=0)\n",
    "\n",
    " \n",
    "    #impute the numerical column(Age)\n",
    "    imputed_df[numerical] = imp_num.fit_transform(imputed_df[numerical])\n",
    "\n",
    "    \n",
    "    imputed_df['Age'] = imputed_df['Age'].apply(lambda x:int(round(x,0)))\n",
    "    \n",
    "    imputed_data.append(imputed_df)\n",
    "    \n",
    "train = imputed_data[0]  \n",
    "test = imputed_data[1]"
   ]
  },
  {
   "cell_type": "markdown",
   "metadata": {},
   "source": [
    "# Train and Run"
   ]
  },
  {
   "cell_type": "code",
   "execution_count": 12,
   "metadata": {},
   "outputs": [],
   "source": [
    "#encode categorical attributes\n",
    "X = train[features]\n",
    "X_test = test[test_feat]\n",
    "\n",
    "#define output for training\n",
    "y = X[\"Survived\"]\n",
    "x = X[test_feat]\n",
    "#build and fit model\n",
    "model = RandomForestClassifier(n_estimators=100, max_depth=5, random_state=1)\n",
    "model.fit(x, y)\n",
    "\n",
    "#apply model to test objects\n",
    "predictions = model.predict(X_test)\n",
    "\n",
    "#save predictions\n",
    "output = pd.DataFrame({'PassengerId': test.PassengerId, 'Survived': predictions})\n",
    "output.to_csv('my_submission_preprocessing_unencoded.csv', index=False)"
   ]
  }
 ],
 "metadata": {
  "kernelspec": {
   "display_name": "Python 3",
   "language": "python",
   "name": "python3"
  },
  "language_info": {
   "codemirror_mode": {
    "name": "ipython",
    "version": 3
   },
   "file_extension": ".py",
   "mimetype": "text/x-python",
   "name": "python",
   "nbconvert_exporter": "python",
   "pygments_lexer": "ipython3",
   "version": "3.7.4"
  }
 },
 "nbformat": 4,
 "nbformat_minor": 2
}
